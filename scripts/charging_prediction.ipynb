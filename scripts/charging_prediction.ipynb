{
  "nbformat": 4,
  "nbformat_minor": 0,
  "metadata": {
    "accelerator": "GPU",
    "colab": {
      "name": "EV_Charging_forcasting_Caltech.ipynb",
      "provenance": [],
      "collapsed_sections": [],
      "toc_visible": true
    },
    "kernelspec": {
      "display_name": "Python 3",
      "name": "python3"
    },
    "language_info": {
      "name": "python"
    }
  },
  "cells": [
    {
      "cell_type": "markdown",
      "metadata": {
        "id": "BHMwtDVuCCEI"
      },
      "source": [
        "###Electric Vehicle Charging Forcasting \n"
      ]
    },
    {
      "cell_type": "markdown",
      "metadata": {
        "id": "VJc3ep2eFmJB"
      },
      "source": [
        "ACN-Data was collected from two Adaptive Charging Networks\n",
        "located in California. "
      ]
    },
    {
      "cell_type": "code",
      "metadata": {
        "id": "sgl92N3r6OjE"
      },
      "source": [
        "#importing libraries\n",
        "import numpy as np\n",
        "import datetime\n",
        "import pandas as pd\n",
        "from matplotlib import pyplot"
      ],
      "execution_count": null,
      "outputs": []
    },
    {
      "cell_type": "code",
      "metadata": {
        "colab": {
          "background_save": true
        },
        "id": "TRbjY5646eTV",
        "outputId": "08dda386-5674-4216-c0e6-7830f62b07d8"
      },
      "source": [
        "df = pd.read_csv('data.csv',header=0, parse_dates=[0,1],usecols=(2,4,5))\n",
        "df.columns = ['connectionTime','doneChargingTime','kWhDelivered']"
      ],
      "execution_count": null,
      "outputs": [
        {
          "ename": "NameError",
          "evalue": "ignored",
          "output_type": "error",
          "traceback": [
            "\u001b[0;31m---------------------------------------------------------------------------\u001b[0m",
            "\u001b[0;31mNameError\u001b[0m                                 Traceback (most recent call last)",
            "\u001b[0;32m<ipython-input-1-d16148df04b3>\u001b[0m in \u001b[0;36m<module>\u001b[0;34m()\u001b[0m\n\u001b[0;32m----> 1\u001b[0;31m \u001b[0mdf\u001b[0m \u001b[0;34m=\u001b[0m \u001b[0mpd\u001b[0m\u001b[0;34m.\u001b[0m\u001b[0mread_csv\u001b[0m\u001b[0;34m(\u001b[0m\u001b[0;34m'data.csv'\u001b[0m\u001b[0;34m,\u001b[0m\u001b[0mheader\u001b[0m\u001b[0;34m=\u001b[0m\u001b[0;36m0\u001b[0m\u001b[0;34m,\u001b[0m \u001b[0mparse_dates\u001b[0m\u001b[0;34m=\u001b[0m\u001b[0;34m[\u001b[0m\u001b[0;36m0\u001b[0m\u001b[0;34m,\u001b[0m\u001b[0;36m1\u001b[0m\u001b[0;34m]\u001b[0m\u001b[0;34m,\u001b[0m\u001b[0musecols\u001b[0m\u001b[0;34m=\u001b[0m\u001b[0;34m(\u001b[0m\u001b[0;36m2\u001b[0m\u001b[0;34m,\u001b[0m\u001b[0;36m4\u001b[0m\u001b[0;34m,\u001b[0m\u001b[0;36m5\u001b[0m\u001b[0;34m)\u001b[0m\u001b[0;34m)\u001b[0m\u001b[0;34m\u001b[0m\u001b[0;34m\u001b[0m\u001b[0m\n\u001b[0m\u001b[1;32m      2\u001b[0m \u001b[0mdf\u001b[0m\u001b[0;34m.\u001b[0m\u001b[0mcolumns\u001b[0m \u001b[0;34m=\u001b[0m \u001b[0;34m[\u001b[0m\u001b[0;34m'connectionTime'\u001b[0m\u001b[0;34m,\u001b[0m\u001b[0;34m'doneChargingTime'\u001b[0m\u001b[0;34m,\u001b[0m\u001b[0;34m'kWhDelivered'\u001b[0m\u001b[0;34m]\u001b[0m\u001b[0;34m\u001b[0m\u001b[0;34m\u001b[0m\u001b[0m\n",
            "\u001b[0;31mNameError\u001b[0m: name 'pd' is not defined"
          ]
        }
      ]
    },
    {
      "cell_type": "code",
      "metadata": {
        "colab": {
          "background_save": true
        },
        "id": "U5vN2GXpY_h-"
      },
      "source": [
        "df.tail(5)"
      ],
      "execution_count": null,
      "outputs": []
    },
    {
      "cell_type": "code",
      "metadata": {
        "colab": {
          "background_save": true
        },
        "id": "osRzDx1-cVIG"
      },
      "source": [
        "# test = df.iloc[3082]\n",
        "# a = test['connectionTime']\n",
        "# b = test['doneChargingTime']\n",
        "# print(a)\n",
        "# print(b)\n",
        "# print(b-a)\n",
        "# a = pd.to_datetime(a.strftime('%m/%d/%Y'))\n",
        "# print(a)\n",
        "# print(type(a))"
      ],
      "execution_count": null,
      "outputs": []
    },
    {
      "cell_type": "code",
      "metadata": {
        "colab": {
          "background_save": true
        },
        "id": "PZlaLIumcVKx"
      },
      "source": [
        "# - pd.Timedelta(hours=1)\n",
        "newData = []\n",
        "for i in range(len(df)):\n",
        "    # print('---------------------------------------------')\n",
        "    data_to_insert = []\n",
        "    item = df.iloc[i]\n",
        "    start = item['connectionTime']\n",
        "    end = item['doneChargingTime']\n",
        "    kWhDelivered = item['kWhDelivered']\n",
        "\n",
        "    # total difference between starting and ending time\n",
        "    difference = end - start\n",
        "    difference_seconds = difference.total_seconds()\n",
        "\n",
        "    # if total difference in seconds is less than 0 , it means data is corrupt\n",
        "    if (difference_seconds > 0 ):\n",
        "        # print(\"difference: \",difference)\n",
        "        # print(\"difference_seconds: \",difference_seconds)\n",
        "        \n",
        "        # absolute hour of starting and ending time and corresponding data \n",
        "        start_H = item['connectionTime'].replace(minute=0, second=0)\n",
        "        end_H = item['doneChargingTime'].replace(minute=0, second=0)  \n",
        "\n",
        "        ############# TRICK TO GET KWHDELIVERED PER HOUR ###############\n",
        "        absolute_hours_bw = (end_H - start_H)  / np.timedelta64(1, 'h')  - 1     \n",
        "        absolute_seconds_per_hour = 3600\n",
        "        # print(\"absolute_hours_bw: \",absolute_hours_bw)\n",
        "\n",
        "        # confirms that starting and ending time is not in same date and same hour\n",
        "        if (absolute_hours_bw >=0):\n",
        "\n",
        "            # first part corresponds to time in first hour of starting , ex. if start_time is ('10:10:00') then first part is \n",
        "            # between 10 and 11 which actually carries 50 minutes\n",
        "            # same with second part as last hour , ex if end_time is ('10:10:00') then second part is between 10 and 11 \n",
        "            # which carries 10 minutes\n",
        "            # absolute part will be same as all hours carry 60 minutes, hence equal kwhdelivered for all\n",
        "    \n",
        "            seconds_in_first_part = 3600 - (start - start_H).total_seconds()\n",
        "            seconds_in_second_part = (end - end_H).total_seconds()\n",
        "            \n",
        "            # kWhDelivered in three sections\n",
        "            kWhDelivered_in_first_part = (seconds_in_first_part/difference_seconds) * kWhDelivered\n",
        "            kWhDelivered_in_second_part = (seconds_in_second_part/difference_seconds) * kWhDelivered\n",
        "            kWhDelivered_in_absolute_part = (absolute_seconds_per_hour/difference_seconds) * kWhDelivered\n",
        "\n",
        "            # first part appended\n",
        "            data_to_insert.append([start_H,kWhDelivered_in_first_part])\n",
        "\n",
        "            # looping for absolute parts\n",
        "            for j in range(int(absolute_hours_bw)):\n",
        "                start_H = start_H + pd.Timedelta(hours=1)\n",
        "                data_to_insert.append([start_H,kWhDelivered_in_absolute_part])\n",
        "\n",
        "            # second part appended\n",
        "            data_to_insert.append([end_H,kWhDelivered_in_second_part])\n",
        "        # full kwhdelivered to same hour\n",
        "        else:\n",
        "            data_to_insert.append([start_H,kWhDelivered])\n",
        "        newData += data_to_insert"
      ],
      "execution_count": null,
      "outputs": []
    },
    {
      "cell_type": "code",
      "metadata": {
        "colab": {
          "background_save": true
        },
        "id": "ewWo-mDgcVN0"
      },
      "source": [
        "newdf = pd.DataFrame(newData)\n",
        "newdf.columns = ['chargingHour','kWhDelivered']\n",
        "newdf = newdf.set_index('chargingHour')\n",
        "newdf\n",
        "# for january to march\n",
        "# newdf = newdf[\"2020-01-01 00:00:00+00:00\":\"2020-03-01 00:00:00+00:00\"]\n",
        "\n",
        "\n",
        "# for doing per day\n",
        "df_day = newdf.resample('D').sum()\n",
        "\n",
        "# for doing per hour\n",
        "df_hour = newdf.groupby(['chargingHour']).sum()\n",
        "\n",
        "df_week = newdf.resample('W').sum()\n"
      ],
      "execution_count": null,
      "outputs": []
    },
    {
      "cell_type": "code",
      "metadata": {
        "colab": {
          "background_save": true
        },
        "id": "vIXBCd1CO-5d"
      },
      "source": [
        "df_day.tail(5)\n"
      ],
      "execution_count": null,
      "outputs": []
    },
    {
      "cell_type": "code",
      "metadata": {
        "colab": {
          "background_save": true
        },
        "id": "mJreLWGnPdHZ"
      },
      "source": [
        "df_hour.tail(5)\n"
      ],
      "execution_count": null,
      "outputs": []
    },
    {
      "cell_type": "code",
      "metadata": {
        "colab": {
          "background_save": true
        },
        "id": "--2bJjuUPee6"
      },
      "source": [
        "df_week.tail(5)"
      ],
      "execution_count": null,
      "outputs": []
    },
    {
      "cell_type": "code",
      "metadata": {
        "colab": {
          "background_save": true
        },
        "id": "SSr-i4Fhlmh-"
      },
      "source": [
        "# REMOVE OUTLIERS\n",
        "def mod_outlier(df,col):\n",
        "    df1 = df.copy()\n",
        "    df = df._get_numeric_data()\n",
        "\n",
        "    q1 = df.quantile(0.25)\n",
        "    q3 = df.quantile(0.75)\n",
        "    iqr = q3 - q1\n",
        "\n",
        "    lower_bound = q1 -(1.5 * iqr) \n",
        "    upper_bound = q3 +(1.5 * iqr)\n",
        "    print(\"lower_bound: \",lower_bound)\n",
        "    print(\"upper_bound: \",upper_bound)\n",
        "    \n",
        "    for i in range(0,len(df[col])):\n",
        "        if df[col][i] < lower_bound[col]:            \n",
        "            df[col][i] = lower_bound[col]\n",
        "\n",
        "        if df[col][i] > upper_bound[col]:            \n",
        "            df[col][i] = upper_bound[col]  \n",
        "\n"
      ],
      "execution_count": null,
      "outputs": []
    },
    {
      "cell_type": "code",
      "metadata": {
        "colab": {
          "background_save": true
        },
        "id": "ZQkrNpCs9Bi9"
      },
      "source": [
        "################### DAY WISE ########################\n",
        "pyplot.figure(dpi=1200)\n",
        "pyplot.plot(df_day.index, df_day['kWhDelivered'],label='original',linewidth=1)\n",
        "pyplot.gcf().autofmt_xdate()\n",
        "pyplot.title('Day Wise on Caltech Dataset')\n",
        "pyplot.xlabel('Date')\n",
        "pyplot.ylabel('Energy Delivered (in KWh)')\n",
        "pyplot.savefig('Daywise.png', dpi=1200)"
      ],
      "execution_count": null,
      "outputs": []
    },
    {
      "cell_type": "code",
      "metadata": {
        "colab": {
          "background_save": true
        },
        "id": "ABM373PzgXhn"
      },
      "source": [
        "################### HOUR WISE ########################\n",
        "pyplot.figure(dpi=1200)\n",
        "pyplot.plot(df_hour.index, df_hour['kWhDelivered'], label='original',linewidth=1)\n",
        "pyplot.gcf().autofmt_xdate()\n",
        "pyplot.title('Hour Wise on Caltech Dataset ')\n",
        "pyplot.xlabel('Date')\n",
        "pyplot.ylabel('Energy Delivered (in KWh)')\n",
        "pyplot.savefig('Hourwise.png', dpi=1200)"
      ],
      "execution_count": null,
      "outputs": []
    },
    {
      "cell_type": "code",
      "metadata": {
        "colab": {
          "background_save": true
        },
        "id": "Y4s4Acm9L90A"
      },
      "source": [
        "################### Week WISE ########################\n",
        "pyplot.figure(dpi=1200)\n",
        "pyplot.plot(df_week.index, df_week['kWhDelivered'], label='original',linewidth=1)\n",
        "pyplot.gcf().autofmt_xdate()\n",
        "pyplot.title('Week Wise on Caltech Dataset')\n",
        "pyplot.xlabel('Date')\n",
        "pyplot.ylabel('Energy Delivered')\n",
        "pyplot.savefig('Weekwise.png', dpi=1200)"
      ],
      "execution_count": null,
      "outputs": []
    },
    {
      "cell_type": "code",
      "metadata": {
        "colab": {
          "background_save": true
        },
        "id": "BOt8sAdjiWQr"
      },
      "source": [
        "################### CLEANING OUTLIERS ########################\n",
        "mod_outlier(df_day,\"kWhDelivered\")\n",
        "mod_outlier(df_hour,\"kWhDelivered\")\n",
        "mod_outlier(df_week,\"kWhDelivered\")"
      ],
      "execution_count": null,
      "outputs": []
    },
    {
      "cell_type": "code",
      "metadata": {
        "colab": {
          "background_save": true
        },
        "id": "wC9n8DwxiWbF"
      },
      "source": [
        "################### DAY WISE ########################\n",
        "pyplot.figure(dpi=1200)\n",
        "pyplot.plot(df_day.index, df_day['kWhDelivered'], label='original',linewidth=0.5)\n",
        "pyplot.gcf().autofmt_xdate()\n",
        "pyplot.title('Day Wise on Caltech Dataset')\n",
        "pyplot.xlabel('Date')\n",
        "pyplot.ylabel('Energy Delivered')\n",
        "pyplot.savefig('DDaywise.png', dpi=1200)"
      ],
      "execution_count": null,
      "outputs": []
    },
    {
      "cell_type": "code",
      "metadata": {
        "colab": {
          "background_save": true
        },
        "id": "B6lUiS0RiWW4"
      },
      "source": [
        "################### HOUR WISE ########################\n",
        "pyplot.figure(dpi=1200)\n",
        "pyplot.plot(df_hour.index, df_hour['kWhDelivered'], label='original',linewidth=0.5)\n",
        "pyplot.gcf().autofmt_xdate()\n",
        "pyplot.title('Hour Wise on Caltech Dataset')\n",
        "pyplot.xlabel('Date')\n",
        "pyplot.ylabel('Energy Delivered')\n",
        "pyplot.savefig('DHourwise.png', dpi=1200)"
      ],
      "execution_count": null,
      "outputs": []
    },
    {
      "cell_type": "code",
      "metadata": {
        "colab": {
          "background_save": true
        },
        "id": "Gb2tUVJ-KupB"
      },
      "source": [
        "slide_hour = 24\n",
        "slide_day = 7\n",
        "slide_week = 6"
      ],
      "execution_count": null,
      "outputs": []
    },
    {
      "cell_type": "code",
      "metadata": {
        "colab": {
          "background_save": true
        },
        "id": "Jo8QmzX_R3Cg"
      },
      "source": [
        "################### DAY WISE ########################\n",
        "\n",
        "num_data = len(df_day)\n",
        "num_train_day = int(0.80 * num_data)\n",
        "num_test_day = num_data\n",
        "train_data_day = df_day[0:num_train_day]\n",
        "test_data_day = df_day[:]\n",
        "test_day_index = df_day.index[slide_day:]\n",
        "\n",
        "\n",
        "################### HOUR WISE ########################\n",
        "\n",
        "num_data = len(df_hour)\n",
        "num_train_hour = int(0.80 * num_data)\n",
        "num_test_hour = num_data - num_train_hour\n",
        "train_data_hour = df_hour[0:num_train_hour]\n",
        "test_data_hour = df_hour[num_train_hour:]\n",
        "test_hour_index = df_hour.index[num_train_hour+slide_hour:]\n",
        "\n",
        "\n",
        "################### WEEK WISE ########################\n",
        "\n",
        "num_data = len(df_week)\n",
        "num_train_week = int(0.80 * num_data)\n",
        "num_test_week = num_data\n",
        "train_data_week = df_week[0:num_train_week]\n",
        "test_data_week = df_week[:]\n",
        "test_week_index = df_week.index[slide_week:]"
      ],
      "execution_count": null,
      "outputs": []
    },
    {
      "cell_type": "markdown",
      "metadata": {
        "id": "kdN2w1ZWXb7k"
      },
      "source": [
        "Feature Scaling\n",
        "We will normalising our data using MinMaxScaler \n"
      ]
    },
    {
      "cell_type": "code",
      "metadata": {
        "colab": {
          "background_save": true
        },
        "id": "HUH2v5ohR8Fz"
      },
      "source": [
        "# Normalising the data using MinMaxScaler \n",
        "from sklearn.preprocessing import MinMaxScaler\n",
        "\n",
        "################### DAY WISE ########################\n",
        "\n",
        "sc_day = MinMaxScaler()\n",
        "train_data_day = sc_day.fit_transform(train_data_day)\n",
        "test_data_day = sc_day.transform(test_data_day)\n",
        "\n",
        "\n",
        "################### HOUR WISE ########################\n",
        "\n",
        "sc_hour = MinMaxScaler()\n",
        "train_data_hour = sc_hour.fit_transform(train_data_hour)\n",
        "test_data_hour = sc_hour.transform(test_data_hour)\n",
        "\n",
        "################### WEEK WISE ########################\n",
        "\n",
        "sc_week = MinMaxScaler()\n",
        "train_data_week = sc_week.fit_transform(train_data_week)\n",
        "test_data_week = sc_week.transform(test_data_week)\n",
        "\n"
      ],
      "execution_count": null,
      "outputs": []
    },
    {
      "cell_type": "code",
      "metadata": {
        "colab": {
          "background_save": true
        },
        "id": "kwGv-1iKBGde"
      },
      "source": [
        "################### DAY WISE ########################\n",
        "\n",
        "# TRAINING DATA\n",
        "\n",
        "X_train_day = []\n",
        "y_train_day = []\n",
        "\n",
        "for i in range (slide_day, num_train_day):\n",
        "    X_train_day.append(train_data_day[i-slide_day:i, 0])\n",
        "    y_train_day.append(train_data_day[i,0])\n",
        "X_train_day, y_train_day = np.array(X_train_day), np.array(y_train_day)\n",
        "# Reshaping\n",
        "X_train_day_ann = X_train_day\n",
        "X_train_day = np.reshape(X_train_day, (X_train_day.shape[0], X_train_day.shape[1], 1))\n",
        "\n",
        "\n",
        "\n",
        "# TESTING DATA\n",
        "\n",
        "X_test_day = []\n",
        "y_test_day = []\n",
        "\n",
        "for i in range (slide_day, num_test_day):\n",
        "    X_test_day.append(test_data_day[i-slide_day:i, 0])\n",
        "    y_test_day.append(test_data_day[i,0])\n",
        "X_test_day, y_test_day = np.array(X_test_day), np.array(y_test_day)\n",
        "# Reshaping\n",
        "X_test_day_ann = X_test_day\n",
        "X_test_day = np.reshape(X_test_day, (X_test_day.shape[0], X_test_day.shape[1], 1))\n",
        "y_test_day = y_test_day.reshape(-1,1)\n",
        "\n",
        "\n",
        "################### HOUR WISE ########################\n",
        "\n",
        "\n",
        "# TRAINING DATA\n",
        "\n",
        "X_train_hour = []\n",
        "y_train_hour = []\n",
        "\n",
        "for i in range (slide_hour, num_train_hour):\n",
        "    X_train_hour.append(train_data_hour[i-slide_hour:i, 0])\n",
        "    y_train_hour.append(train_data_hour[i,0])\n",
        "X_train_hour, y_train_hour = np.array(X_train_hour), np.array(y_train_hour)\n",
        "# Reshaping\n",
        "X_train_hour_ann = X_train_hour\n",
        "X_train_hour = np.reshape(X_train_hour, (X_train_hour.shape[0], X_train_hour.shape[1], 1))\n",
        "\n",
        "\n",
        "\n",
        "# TESTING DATA\n",
        "\n",
        "X_test_hour = []\n",
        "y_test_hour = []\n",
        "\n",
        "for i in range (slide_hour, num_test_hour):\n",
        "    X_test_hour.append(test_data_hour[i-slide_hour:i, 0])\n",
        "    y_test_hour.append(test_data_hour[i,0])\n",
        "X_test_hour, y_test_hour = np.array(X_test_hour), np.array(y_test_hour)\n",
        "# Reshaping\n",
        "X_test_hour_ann = X_test_hour\n",
        "X_test_hour = np.reshape(X_test_hour, (X_test_hour.shape[0], X_test_hour.shape[1], 1))\n",
        "y_test_hour = y_test_hour.reshape(-1,1)\n",
        "\n",
        "\n",
        "\n",
        "################### WEEK WISE ########################\n",
        "\n",
        "\n",
        "# TRAINING DATA\n",
        "\n",
        "X_train_week = []\n",
        "y_train_week = []\n",
        "\n",
        "for i in range (slide_week, num_train_week):\n",
        "    X_train_week.append(train_data_week[i-slide_week:i, 0])\n",
        "    y_train_week.append(train_data_week[i,0])\n",
        "X_train_week, y_train_week = np.array(X_train_week), np.array(y_train_week)\n",
        "# Reshaping\n",
        "X_train_week_ann = X_train_week\n",
        "X_train_week = np.reshape(X_train_week, (X_train_week.shape[0], X_train_week.shape[1], 1))\n",
        "\n",
        "\n",
        "\n",
        "# TESTING DATA\n",
        "\n",
        "X_test_week = []\n",
        "y_test_week = []\n",
        "\n",
        "for i in range (slide_week, num_test_week):\n",
        "    X_test_week.append(test_data_week[i-slide_week:i, 0])\n",
        "    y_test_week.append(test_data_week[i,0])\n",
        "X_test_week, y_test_week = np.array(X_test_week), np.array(y_test_week)\n",
        "# Reshaping\n",
        "X_test_week_ann = X_test_week\n",
        "X_test_week = np.reshape(X_test_week, (X_test_week.shape[0], X_test_week.shape[1], 1))\n",
        "y_test_week = y_test_week.reshape(-1,1)"
      ],
      "execution_count": null,
      "outputs": []
    },
    {
      "cell_type": "code",
      "metadata": {
        "colab": {
          "background_save": true
        },
        "id": "7Uwu-EzjtE_H"
      },
      "source": [
        "# Importing the Keras libraries and packages\n",
        "from keras.models import Sequential\n",
        "from keras.layers import Dense, Dropout, LSTM, Bidirectional"
      ],
      "execution_count": null,
      "outputs": []
    },
    {
      "cell_type": "markdown",
      "metadata": {
        "id": "f4Ej2r2QZOOu"
      },
      "source": [
        "Model that we will be using is LSTM Recurrent Neural Networks for Time Series Prediction. We will be using 4 layers of LSTM and one Dense for output. Optimizer as adam and loss as mean square Error.\n"
      ]
    },
    {
      "cell_type": "code",
      "metadata": {
        "colab": {
          "background_save": true
        },
        "id": "vmt17RLOXPb4"
      },
      "source": [
        "# ######################## DAY WISE using RNN #################################\n",
        "# Adding the first LSTM layer and some Dropout regularisation\n",
        "model_day = Sequential()\n",
        "\n",
        "# # Initialising the RNN\n",
        " \n",
        "# Adding the first LSTM layer and some Dropout regularisation\n",
        "model_day.add(Bidirectional(LSTM(units = 16, return_sequences = True, input_shape = (X_train_day.shape[1], 1))))\n",
        "model_day.add(Dropout(0.20))\n",
        " \n",
        "model_day.add(LSTM(units = 32))\n",
        "model_day.add(Dropout(0.20))\n",
        "# Adding the output layer\n",
        "model_day.add(Dense(units = 1))\n",
        " \n",
        "# Compiling the RNN\n",
        "model_day.compile(optimizer = 'adam', loss = 'mean_squared_error')\n",
        " \n",
        "# Fitting the RNN to the Training set\n",
        "model_day.fit(X_train_day, y_train_day, epochs = 200, batch_size = 30, validation_data=(X_test_day,y_test_day))\n",
        "model_day.summary()"
      ],
      "execution_count": null,
      "outputs": []
    },
    {
      "cell_type": "code",
      "metadata": {
        "colab": {
          "background_save": true
        },
        "id": "Ut3KMswKrRDO"
      },
      "source": [
        "######################## DAY WISE using ANN #################################\n",
        "\n",
        "# Initialising the ANN\n",
        "model_day_ann = Sequential()\n",
        " \n",
        "model_day_ann.add(Dense(units = 6, activation = 'relu',input_shape= X_train_day_ann.shape))\n",
        "\n",
        "#adding the second hidden layer\n",
        "model_day_ann.add(Dense(units = 6,activation = 'relu'))\n",
        " \n",
        "#adding the output layer\n",
        "model_day_ann.add(Dense(units = 1,activation = 'sigmoid'))\n",
        "\n",
        "model_day_ann.compile(optimizer = 'adam', loss = 'mean_squared_error')\n",
        "\n",
        "# Fitting the ANN to the Training set\n",
        "model_day_ann.fit(X_train_day_ann, y_train_day, epochs = 200, batch_size = 30, validation_data=(X_test_day_ann,y_test_day))\n",
        "model_day_ann.summary()"
      ],
      "execution_count": null,
      "outputs": []
    },
    {
      "cell_type": "code",
      "metadata": {
        "colab": {
          "background_save": true
        },
        "id": "vst8LjGXFjfr"
      },
      "source": [
        "predicted_energy_day = model_day.predict(X_test_day)\n",
        "predicted_energy_day = sc_day.inverse_transform(predicted_energy_day)\n",
        "test_energy_day = sc_day.inverse_transform(y_test_day)"
      ],
      "execution_count": null,
      "outputs": []
    },
    {
      "cell_type": "code",
      "metadata": {
        "colab": {
          "background_save": true
        },
        "id": "-pxNFYzADKYp"
      },
      "source": [
        "predicted_energy_day_ann = model_day_ann.predict(X_test_day_ann)\n",
        "predicted_energy_day_ann = sc_day.inverse_transform(predicted_energy_day_ann)"
      ],
      "execution_count": null,
      "outputs": []
    },
    {
      "cell_type": "code",
      "metadata": {
        "colab": {
          "background_save": true
        },
        "id": "0N02cd2MGpJt"
      },
      "source": [
        "pyplot.figure(dpi=1000)\n",
        "pyplot.plot(test_day_index,test_energy_day, color = 'red', label = 'Actual Energy Required',linewidth=0.7)\n",
        "pyplot.plot(test_day_index,predicted_energy_day, color = 'orange', label = 'Predicted Energy Required RNN',linewidth=0.7)\n",
        "pyplot.plot(test_day_index,predicted_energy_day_ann, color = 'blue', label = 'Predicted Energy Required using ANN',linewidth=0.7)\n",
        "pyplot.gcf().autofmt_xdate()\n",
        "pyplot.title('EV charging Forcasting comparision')\n",
        "pyplot.xlabel('Time')\n",
        "pyplot.ylabel('Energy Required (in KWh)')\n",
        "pyplot.legend()\n",
        "pyplot.show()\n",
        "pyplot.savefig('XDaywise.png', dpi=1200)"
      ],
      "execution_count": null,
      "outputs": []
    },
    {
      "cell_type": "code",
      "metadata": {
        "colab": {
          "background_save": true
        },
        "id": "Dt9_m0S0FWE5"
      },
      "source": [
        "from sklearn.metrics import r2_score\n",
        "r2_score(test_energy_day, predicted_energy_day)"
      ],
      "execution_count": null,
      "outputs": []
    },
    {
      "cell_type": "code",
      "metadata": {
        "colab": {
          "background_save": true
        },
        "id": "E5GV4eo-FZkS"
      },
      "source": [
        "r2_score(test_energy_day, predicted_energy_day_ann)"
      ],
      "execution_count": null,
      "outputs": []
    },
    {
      "cell_type": "markdown",
      "metadata": {
        "id": "ONnge8UDFZHo"
      },
      "source": [
        "Not Much difference in Accuracy of ANN and RNN this case."
      ]
    },
    {
      "cell_type": "markdown",
      "metadata": {
        "id": "zd4_eD7n-GKg"
      },
      "source": [
        "                                                    HOUR WISE\n",
        "                                                    "
      ]
    },
    {
      "cell_type": "code",
      "metadata": {
        "colab": {
          "background_save": true
        },
        "id": "R1j6H-LnvKEM"
      },
      "source": [
        "######################## HOUR WISE using RNN #################################\n",
        "# Initialising the RNN\n",
        "model_hour = Sequential()\n",
        " \n",
        "# Adding the first LSTM layer and some Dropout regularisation\n",
        "model_hour.add(Bidirectional(LSTM(units = 16, return_sequences = True, input_shape = (X_train_hour.shape[1], 1))))\n",
        "model_hour.add(Dropout(0.2))\n",
        " \n",
        "\n",
        "# Adding a third LSTM layer and some Dropout regularisation\n",
        "model_hour.add(LSTM(units = 32))\n",
        "model_hour.add(Dropout(0.2))\n",
        " \n",
        "# Adding the output layer\n",
        "model_hour.add(Dense(units = 1))\n",
        " \n",
        "# Compiling the RNN\n",
        "model_hour.compile(optimizer = 'adam', loss = 'mean_squared_error')\n",
        " \n",
        "# Fitting the RNN to the Training set\n",
        "model_hour.fit(X_train_hour, y_train_hour, epochs = 250, batch_size = 128,validation_data=(X_test_hour,y_test_hour))\n",
        "model_hour.summary()"
      ],
      "execution_count": null,
      "outputs": []
    },
    {
      "cell_type": "code",
      "metadata": {
        "colab": {
          "background_save": true
        },
        "id": "O-m3GLzsosdP"
      },
      "source": [
        "######################## HOUR WISE using ANN #################################\n",
        "\n",
        "# Initialising the ANN\n",
        "model_hour_ann = Sequential()\n",
        " \n",
        "model_hour_ann.add(Dense(units =  6, activation = 'relu',input_shape= X_train_hour_ann.shape))\n",
        "\n",
        "#adding the second hidden layer\n",
        "model_hour_ann.add(Dense(units = 6,activation = 'relu'))\n",
        " \n",
        "#adding the output layer\n",
        "model_hour_ann.add(Dense(units = 1,activation = 'sigmoid'))\n",
        "\n",
        "model_hour_ann.compile(optimizer = 'adam', loss = 'mean_squared_error')\n",
        "\n",
        "# Fitting the ANN to the Training set\n",
        "model_hour_ann.fit(X_train_hour_ann, y_train_hour, epochs = 200, batch_size = 30, validation_data=(X_test_hour_ann,y_test_hour))\n",
        "model_hour_ann.summary()"
      ],
      "execution_count": null,
      "outputs": []
    },
    {
      "cell_type": "code",
      "metadata": {
        "colab": {
          "background_save": true
        },
        "id": "9ca6b9h35N1H"
      },
      "source": [
        "predicted_energy_hour = model_hour.predict(X_test_hour)\n",
        "predicted_energy_hour = sc_hour.inverse_transform(predicted_energy_hour)\n",
        "test_energy_hour = sc_hour.inverse_transform(y_test_hour)"
      ],
      "execution_count": null,
      "outputs": []
    },
    {
      "cell_type": "code",
      "metadata": {
        "colab": {
          "background_save": true
        },
        "id": "a5qFVlxrp5sl"
      },
      "source": [
        "predicted_energy_hour_ann = model_hour_ann.predict(X_test_hour_ann)\n",
        "predicted_energy_hour_ann = sc_hour.inverse_transform(predicted_energy_hour_ann)"
      ],
      "execution_count": null,
      "outputs": []
    },
    {
      "cell_type": "code",
      "metadata": {
        "colab": {
          "background_save": true
        },
        "id": "bFs8oBIo5QPx"
      },
      "source": [
        "pyplot.figure(dpi=1000)\n",
        "pyplot.plot(test_hour_index,predicted_energy_hour, color = 'blue', label = 'Predicted Energy Required with LSTM' ,linewidth=0.6)\n",
        "pyplot.plot(test_hour_index,predicted_energy_hour_ann, color = 'orange', label = 'Predicted Energy Required with ANN',linewidth=0.6)\n",
        "pyplot.plot(test_hour_index,test_energy_hour, color = 'red', label = 'Actual Energy Required',linewidth=0.6)\n",
        "pyplot.gcf().autofmt_xdate()\n",
        "pyplot.title('EV charging Forcasting comparision')\n",
        "pyplot.xlabel('Time')\n",
        "pyplot.ylabel('Energy Required (in KWh)')\n",
        "pyplot.legend()\n",
        "pyplot.show()\n",
        "pyplot.savefig('XHourwise.png', dpi=1200)"
      ],
      "execution_count": null,
      "outputs": []
    },
    {
      "cell_type": "code",
      "metadata": {
        "colab": {
          "background_save": true
        },
        "id": "vTkyjEAGBPzv"
      },
      "source": [
        "r2_score(test_energy_hour, predicted_energy_hour)"
      ],
      "execution_count": null,
      "outputs": []
    },
    {
      "cell_type": "code",
      "metadata": {
        "colab": {
          "background_save": true
        },
        "id": "sZ9nwfrX__ie"
      },
      "source": [
        "r2_score(test_energy_hour, predicted_energy_hour_ann)"
      ],
      "execution_count": null,
      "outputs": []
    },
    {
      "cell_type": "markdown",
      "metadata": {
        "id": "oZn7F4dUEzfa"
      },
      "source": [
        "RNN seems to be more effective in hourly prediction."
      ]
    },
    {
      "cell_type": "code",
      "metadata": {
        "colab": {
          "background_save": true
        },
        "id": "ytfXSAhsOdZF"
      },
      "source": [
        "######################## Week WISE using RNN #################################\n",
        "# Initialising the RNN\n",
        "model_week = Sequential()\n",
        " \n",
        "# Adding the first LSTM layer and some Dropout regularisation\n",
        "model_week.add(Bidirectional(LSTM(units = 16, return_sequences = True, input_shape = (X_train_week.shape[1], 1))))\n",
        "model_week.add(Dropout(0.2))\n",
        " \n",
        "\n",
        "# Adding a third LSTM layer and some Dropout regularisation\n",
        "model_week.add(LSTM(units = 32))\n",
        "model_week.add(Dropout(0.2))\n",
        " \n",
        "# Adding the output layer\n",
        "model_week.add(Dense(units = 1))\n",
        " \n",
        "# Compiling the RNN\n",
        "model_week.compile(optimizer = 'adam', loss = 'mean_squared_error')\n",
        " \n",
        "# Fitting the RNN to the Training set\n",
        "model_week.fit(X_train_week, y_train_week, epochs = 250, batch_size = 128,validation_data=(X_test_week,y_test_week))\n",
        "model_week.summary()"
      ],
      "execution_count": null,
      "outputs": []
    },
    {
      "cell_type": "code",
      "metadata": {
        "colab": {
          "background_save": true
        },
        "id": "VeZgwkM-OgiK"
      },
      "source": [
        "######################## Week WISE using ANN #################################\n",
        "\n",
        "# Initialising the ANN\n",
        "model_week_ann = Sequential()\n",
        " \n",
        "model_week_ann.add(Dense(units =  6, activation = 'relu',input_shape= X_train_week_ann.shape))\n",
        "\n",
        "#adding the second hidden layer\n",
        "model_week_ann.add(Dense(units = 6,activation = 'relu'))\n",
        " \n",
        "#adding the output layer\n",
        "model_week_ann.add(Dense(units = 1,activation = 'sigmoid'))\n",
        "\n",
        "model_week_ann.compile(optimizer = 'adam', loss = 'mean_squared_error')\n",
        "\n",
        "# Fitting the ANN to the Training set\n",
        "model_week_ann.fit(X_train_week_ann, y_train_week, epochs = 200, batch_size = 30, validation_data=(X_test_week_ann,y_test_week))\n",
        "model_week_ann.summary()"
      ],
      "execution_count": null,
      "outputs": []
    },
    {
      "cell_type": "code",
      "metadata": {
        "colab": {
          "background_save": true
        },
        "id": "mdWtKe-dOiiJ"
      },
      "source": [
        "predicted_energy_week = model_week.predict(X_test_week)\n",
        "predicted_energy_week = sc_week.inverse_transform(predicted_energy_week)\n",
        "test_energy_week = sc_week.inverse_transform(y_test_week)"
      ],
      "execution_count": null,
      "outputs": []
    },
    {
      "cell_type": "code",
      "metadata": {
        "colab": {
          "background_save": true
        },
        "id": "YsYFi7ZrOkkJ"
      },
      "source": [
        "predicted_energy_week_ann = model_week_ann.predict(X_test_week_ann)\n",
        "predicted_energy_week_ann = sc_week.inverse_transform(predicted_energy_week_ann)"
      ],
      "execution_count": null,
      "outputs": []
    },
    {
      "cell_type": "code",
      "metadata": {
        "colab": {
          "background_save": true
        },
        "id": "Z8qef_MKOmbi"
      },
      "source": [
        "pyplot.figure(dpi=720)\n",
        "pyplot.plot(test_week_index,predicted_energy_week, color = 'blue', label = 'Predicted Energy Required with LSTM',linewidth=0.7)\n",
        "pyplot.plot(test_week_index,predicted_energy_week_ann, color = 'orange', label = 'Predicted Energy Required with ANN',linewidth=0.7)\n",
        "pyplot.plot(test_week_index,test_energy_week, color = 'red', label = 'Actual Energy Required',linewidth=0.7)\n",
        "pyplot.gcf().autofmt_xdate()\n",
        "pyplot.title('EV charging Forcasting comparision')\n",
        "pyplot.xlabel('Time')\n",
        "pyplot.ylabel('Energy Required (in KWh)')\n",
        "pyplot.legend()\n",
        "pyplot.show()\n",
        "pyplot.savefig('XWeekwise.png', dpi=1200)"
      ],
      "execution_count": null,
      "outputs": []
    },
    {
      "cell_type": "code",
      "metadata": {
        "colab": {
          "background_save": true
        },
        "id": "e55qYcZLOpf-"
      },
      "source": [
        "r2_score(test_energy_week, predicted_energy_week)"
      ],
      "execution_count": null,
      "outputs": []
    },
    {
      "cell_type": "code",
      "metadata": {
        "colab": {
          "background_save": true
        },
        "id": "qRw93ZDMOrOT"
      },
      "source": [
        "r2_score(test_energy_week, predicted_energy_week_ann)"
      ],
      "execution_count": null,
      "outputs": []
    },
    {
      "cell_type": "markdown",
      "metadata": {
        "id": "jeuVT9IaSwQn"
      },
      "source": [
        "Not a good prediction due to low range of dataset for weekly prediction."
      ]
    }
  ]
}